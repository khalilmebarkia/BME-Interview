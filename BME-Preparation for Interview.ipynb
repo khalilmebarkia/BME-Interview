{
 "cells": [
  {
   "cell_type": "code",
   "execution_count": null,
   "metadata": {
    "collapsed": false
   },
   "outputs": [],
   "source": [
    "import numpy as np\n",
    "from scipy.fftpack import fft\n",
    "import random\n",
    "from sklearn import preprocessing"
   ]
  },
  {
   "cell_type": "code",
   "execution_count": null,
   "metadata": {
    "collapsed": true
   },
   "outputs": [],
   "source": [
    "import matplotlib.pyplot as plt"
   ]
  },
  {
   "cell_type": "code",
   "execution_count": null,
   "metadata": {
    "collapsed": true
   },
   "outputs": [],
   "source": [
    "#Exercice 1\n",
    "y = [(2*np.sin(i)+2*np.cos(i)) for i in np.arange(0,30,0.1)]\n",
    "x = [i for i in np.arange(0,30,0.1)]"
   ]
  },
  {
   "cell_type": "code",
   "execution_count": null,
   "metadata": {
    "collapsed": false
   },
   "outputs": [],
   "source": [
    "#Exercice 2\n",
    "plt.subplot(2,2,1)\n",
    "plt.title('Original')\n",
    "plt.plot(x,y)\n",
    "plt.show()"
   ]
  },
  {
   "cell_type": "code",
   "execution_count": null,
   "metadata": {
    "collapsed": true
   },
   "outputs": [],
   "source": [
    "#Exercice 3\n",
    "y_ftt = np.fft.fft(y) # or y_ftt = fft(y)\n",
    "\n",
    "plt.subplot(2,2,2)\n",
    "plt.title('FFT')\n",
    "plt.plot(y_ftt)\n",
    "\n",
    "y_noise = y\n",
    "for i in range(0, len(y)):\n",
    "    y_noise[i] = y_noise[i] + random.random()\n",
    "\n",
    "plt.subplot(2,2,3)\n",
    "plt.title('Original Noised')\n",
    "plt.plot(y_noise)\n",
    "\n",
    "y_noise_ftt = fft(y_noise) # or y_noise_ftt = np.fft.fft(y_noise)\n",
    "\n",
    "plt.subplot(2,2,4)\n",
    "plt.title('FFT Noised')\n",
    "plt.plot(y_noise_ftt)\n",
    "\n",
    "plt.show()"
   ]
  },
  {
   "cell_type": "code",
   "execution_count": null,
   "metadata": {
    "collapsed": true
   },
   "outputs": [],
   "source": [
    "#Exercice 4\n",
    "\n",
    "scale_y_noise_ftt = preprocessing.scale(y_noise_ftt)\n",
    "scale_y = preprocessing.scale(y)\n",
    "#Calculate STD for both signals\n",
    "STD_scale_y_noise_ftt = scale_y_noise_ftt.std(axis=0)\n",
    "STD_scale_y = scale_y.std(axis=0)\n",
    "#Calculate MEAN for both signals\n",
    "MEAN_scale_y_noise_ftt = scale_y_noise_ftt.mean(axis=0)\n",
    "MEAN_scale_y = scale_y.mean(axis=0)\n",
    "#Plot results\n",
    "plt.subplot(2,2,5)\n",
    "plt.title('Scale Original')\n",
    "plt.plot(scale_y)\n",
    "\n",
    "plt.subplot(2,2,6)\n",
    "plt.title('scale_y_noise_ftt')\n",
    "plt.plot(scale_y_noise_ftt)\n",
    "\n",
    "plt.subplot(2,2,7)\n",
    "plt.title('scale_y_noise_ftt')\n",
    "plt.plot(STD_scale_y)\n",
    "\n",
    "plt.subplot(2,2,8)\n",
    "plt.title('scale_y_noise_ftt')\n",
    "plt.plot(STD_scale_y_noise_ftt)\n",
    "\n",
    "plt.subplot(2,2,8)\n",
    "plt.title('scale_y_noise_ftt')\n",
    "plt.plot(MEAN_scale_y)\n",
    "\n",
    "plt.subplot(2,2,8)\n",
    "plt.title('scale_y_noise_ftt')\n",
    "plt.plot(MEAN_scale_y_noise_ftt)\n",
    "\n",
    "plt.show()"
   ]
  },
  {
   "cell_type": "code",
   "execution_count": null,
   "metadata": {
    "collapsed": true
   },
   "outputs": [],
   "source": [
    "plt.show()"
   ]
  },
  {
   "cell_type": "code",
   "execution_count": null,
   "metadata": {
    "collapsed": true
   },
   "outputs": [],
   "source": []
  },
  {
   "cell_type": "code",
   "execution_count": null,
   "metadata": {
    "collapsed": true
   },
   "outputs": [],
   "source": []
  }
 ],
 "metadata": {
  "kernelspec": {
   "display_name": "Python 2",
   "language": "python",
   "name": "python2"
  },
  "language_info": {
   "codemirror_mode": {
    "name": "ipython",
    "version": 2
   },
   "file_extension": ".py",
   "mimetype": "text/x-python",
   "name": "python",
   "nbconvert_exporter": "python",
   "pygments_lexer": "ipython2",
   "version": "2.7.11"
  }
 },
 "nbformat": 4,
 "nbformat_minor": 0
}
